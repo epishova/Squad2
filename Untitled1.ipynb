{
 "cells": [
  {
   "cell_type": "code",
   "execution_count": 3,
   "metadata": {},
   "outputs": [],
   "source": [
    "import json\n",
    "import tensorflow as tf\n",
    "from tensorflow.keras import layers"
   ]
  },
  {
   "cell_type": "code",
   "execution_count": null,
   "metadata": {},
   "outputs": [],
   "source": [
    "GRU_NUM = 10\n",
    "question_len = 1\n",
    "context_len = 1\n",
    "\n",
    "embeding_map = json.loads(\"[[1, 2]]\")\n",
    "\n",
    "context = layers.Input(shape=(context_len, ))\n",
    "question = layers.Input(shape=(question_len, ))\n",
    "\n",
    "context_embs = layers.Embeding()(context)\n",
    "qn_embs = layers.Embeding()(question)\n",
    "\n",
    "forward_layer = layers.GRU(GRU_NUM) \n",
    "backward_layer = layers.GRU(GRU_NUM, go_backwards=True)\n",
    "bidirect_gru = layer.Bidirectional(forward_layer, backward_layer=backward_layer)\n",
    "\n",
    "context_hiddens = bidirect_gru(context_embs)\n",
    "question_hiddens = bidirect_gru(qn_embs)\n",
    "\n",
    "attn_output = layers.Attention()([context_hiddens, question_hiddens])\n",
    "\n",
    "blended_reps = layers.concatenate([context_hiddens, attn_output], axis=2)\n",
    "\n",
    "blended_reps_final = layers.Dense(activation='relu')"
   ]
  }
 ],
 "metadata": {
  "kernelspec": {
   "display_name": "Python 3",
   "language": "python",
   "name": "python3"
  },
  "language_info": {
   "codemirror_mode": {
    "name": "ipython",
    "version": 3
   },
   "file_extension": ".py",
   "mimetype": "text/x-python",
   "name": "python",
   "nbconvert_exporter": "python",
   "pygments_lexer": "ipython3",
   "version": "3.6.4"
  }
 },
 "nbformat": 4,
 "nbformat_minor": 2
}
