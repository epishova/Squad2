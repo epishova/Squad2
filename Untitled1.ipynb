{
 "cells": [
  {
   "cell_type": "code",
   "execution_count": 53,
   "metadata": {},
   "outputs": [],
   "source": [
    "import json\n",
    "import numpy as np\n",
    "import tensorflow as tf\n",
    "from tensorflow.keras import layers, models"
   ]
  },
  {
   "cell_type": "code",
   "execution_count": 2,
   "metadata": {},
   "outputs": [
    {
     "data": {
      "text/plain": [
       "'2.1.0'"
      ]
     },
     "execution_count": 2,
     "metadata": {},
     "output_type": "execute_result"
    }
   ],
   "source": [
    "tf.__version__"
   ]
  },
  {
   "cell_type": "code",
   "execution_count": 4,
   "metadata": {},
   "outputs": [
    {
     "data": {
      "text/plain": [
       "(88714, 300)"
      ]
     },
     "execution_count": 4,
     "metadata": {},
     "output_type": "execute_result"
    }
   ],
   "source": [
    "emb_path = '/home/epishova/squad/data/word_emb.json'\n",
    "with open(emb_path) as f:\n",
    "    embedding_matrix = json.load(f)\n",
    "embedding_matrix = np.asarray(embedding_matrix, dtype=np.float32)\n",
    "embedding_matrix.shape"
   ]
  },
  {
   "cell_type": "code",
   "execution_count": 61,
   "metadata": {},
   "outputs": [],
   "source": [
    "learning_rate = 0.001 #\"Learning rate\"\n",
    "batch_size = 100 #\"Batch size to use\"\n",
    "dropout = 0 #1-keep_prob\n",
    "context_len = 600 #\"The maximum context length of your model\"\n",
    "question_len = 30 #\"The maximum question length of your model\"\n",
    "(VOCAB_SIZE, embedding_size) = embedding_matrix.shape\n",
    "hidden_size = 200 #\"Size of the hidden states\""
   ]
  },
  {
   "cell_type": "code",
   "execution_count": 102,
   "metadata": {},
   "outputs": [],
   "source": [
    "context = layers.Input(shape=(context_len, ))\n",
    "question = layers.Input(shape=(question_len, ))\n",
    "\n",
    "context_embs = layers.Embedding(input_dim=VOCAB_SIZE,\n",
    "                            output_dim=embedding_size,\n",
    "                            weights=[embedding_matrix],\n",
    "                            trainable=False)(context)\n",
    "qn_embs = layers.Embedding(input_dim=VOCAB_SIZE,\n",
    "                            output_dim=EMBEDDING_DIM,\n",
    "                            weights=[embedding_matrix],\n",
    "                            trainable=False)(question)\n",
    "\n",
    "masking_layer = layers.Masking()\n",
    "masked_context_embs = masking_layer(context_embs)\n",
    "masked_qn_embs = masking_layer(qn_embs)"
   ]
  },
  {
   "cell_type": "code",
   "execution_count": 103,
   "metadata": {},
   "outputs": [],
   "source": [
    "forward_layer = layers.GRU(hidden_size, dropout=dropout, return_sequences=True) \n",
    "backward_layer = layers.GRU(hidden_size, dropout=dropout, return_sequences=True, go_backwards=True)\n",
    "bidirect_gru = layers.Bidirectional(forward_layer, \n",
    "                                    backward_layer=backward_layer)\n",
    "context_hiddens = bidirect_gru(masked_context_embs)\n",
    "question_hiddens = bidirect_gru(masked_qn_embs)\n",
    "\n",
    "attn_output = layers.Attention()([context_hiddens, question_hiddens])\n",
    "blended_reps = layers.concatenate([context_hiddens, attn_output], axis=2)"
   ]
  },
  {
   "cell_type": "code",
   "execution_count": 104,
   "metadata": {},
   "outputs": [],
   "source": [
    "blended_reps_final = layers.Dense(units=hidden_size,\n",
    "                                  activation='relu')(blended_reps)"
   ]
  },
  {
   "cell_type": "code",
   "execution_count": 105,
   "metadata": {},
   "outputs": [
    {
     "data": {
      "text/plain": [
       "<tf.Tensor 'Shape_23:0' shape=(3,) dtype=int32>"
      ]
     },
     "execution_count": 105,
     "metadata": {},
     "output_type": "execute_result"
    }
   ],
   "source": [
    "tf.shape(context_hiddens)"
   ]
  },
  {
   "cell_type": "code",
   "execution_count": 106,
   "metadata": {},
   "outputs": [],
   "source": [
    "logits_start = layers.Dense(units=1, activation=None)(blended_reps_final)\n",
    "logits_start = tf.squeeze(logits_start, axis=[2])\n",
    "prob_dist_start = layers.Softmax()(logits_start)\n",
    "\n",
    "logits_end = layers.Dense(units=1, activation=None)(blended_reps_final)\n",
    "logits_end = tf.squeeze(logits_end, axis=[2]) \n",
    "prob_dist_end = layers.Softmax()(logits_end)"
   ]
  },
  {
   "cell_type": "code",
   "execution_count": 107,
   "metadata": {},
   "outputs": [],
   "source": [
    "def loss(labels, logits):\n",
    "    #return tf.nn.sparse_softmax_cross_entropy_with_logits(labels=y_true, logits=y_pred)\n",
    "    return tf.keras.losses.sparse_categorical_crossentropy(labels, logits, from_logits=True)"
   ]
  },
  {
   "cell_type": "code",
   "execution_count": 108,
   "metadata": {},
   "outputs": [],
   "source": [
    "model = models.Model(inputs=[context, question], outputs=[prob_dist_start, prob_dist_end])\n",
    "model.compile(optimizer=tf.keras.optimizers.Adam(learning_rate, beta_1=0.9, beta_2=0.999, amsgrad=False),\n",
    "              loss=loss,\n",
    "              metrics=['accuracy'])"
   ]
  },
  {
   "cell_type": "code",
   "execution_count": 109,
   "metadata": {},
   "outputs": [
    {
     "name": "stdout",
     "output_type": "stream",
     "text": [
      "Model: \"model_4\"\n",
      "__________________________________________________________________________________________________\n",
      "Layer (type)                    Output Shape         Param #     Connected to                     \n",
      "==================================================================================================\n",
      "input_7 (InputLayer)            [(None, 600)]        0                                            \n",
      "__________________________________________________________________________________________________\n",
      "input_8 (InputLayer)            [(None, 30)]         0                                            \n",
      "__________________________________________________________________________________________________\n",
      "embedding_6 (Embedding)         (None, 600, 300)     26614200    input_7[0][0]                    \n",
      "__________________________________________________________________________________________________\n",
      "embedding_7 (Embedding)         (None, 30, 300)      26614200    input_8[0][0]                    \n",
      "__________________________________________________________________________________________________\n",
      "masking_1 (Masking)             multiple             0           embedding_6[0][0]                \n",
      "                                                                 embedding_7[0][0]                \n",
      "__________________________________________________________________________________________________\n",
      "bidirectional_8 (Bidirectional) multiple             602400      masking_1[0][0]                  \n",
      "                                                                 masking_1[1][0]                  \n",
      "__________________________________________________________________________________________________\n",
      "attention_7 (Attention)         (None, 600, 400)     0           bidirectional_8[0][0]            \n",
      "                                                                 bidirectional_8[1][0]            \n",
      "__________________________________________________________________________________________________\n",
      "concatenate_11 (Concatenate)    (None, 600, 800)     0           bidirectional_8[0][0]            \n",
      "                                                                 attention_7[0][0]                \n",
      "__________________________________________________________________________________________________\n",
      "dense_29 (Dense)                (None, 600, 200)     160200      concatenate_11[0][0]             \n",
      "__________________________________________________________________________________________________\n",
      "dense_30 (Dense)                (None, 600, 1)       201         dense_29[0][0]                   \n",
      "__________________________________________________________________________________________________\n",
      "dense_31 (Dense)                (None, 600, 1)       201         dense_29[0][0]                   \n",
      "__________________________________________________________________________________________________\n",
      "tf_op_layer_Squeeze_21 (TensorF [(None, 600)]        0           dense_30[0][0]                   \n",
      "__________________________________________________________________________________________________\n",
      "tf_op_layer_Squeeze_22 (TensorF [(None, 600)]        0           dense_31[0][0]                   \n",
      "__________________________________________________________________________________________________\n",
      "softmax_9 (Softmax)             (None, 600)          0           tf_op_layer_Squeeze_21[0][0]     \n",
      "__________________________________________________________________________________________________\n",
      "softmax_10 (Softmax)            (None, 600)          0           tf_op_layer_Squeeze_22[0][0]     \n",
      "==================================================================================================\n",
      "Total params: 53,991,402\n",
      "Trainable params: 763,002\n",
      "Non-trainable params: 53,228,400\n",
      "__________________________________________________________________________________________________\n"
     ]
    }
   ],
   "source": [
    "model.summary()"
   ]
  },
  {
   "cell_type": "code",
   "execution_count": null,
   "metadata": {},
   "outputs": [],
   "source": [
    "# ans_span = tf.placeholder(tf.int32, shape=[None, 2])\n",
    "\n",
    "model.fit(x=None, \n",
    "          y=ans_span, \n",
    "          batch_size=batch_size, \n",
    "          epochs=1, \n",
    "          verbose=1, \n",
    "          callbacks=None) "
   ]
  }
 ],
 "metadata": {
  "kernelspec": {
   "display_name": "Python 3",
   "language": "python",
   "name": "python3"
  },
  "language_info": {
   "codemirror_mode": {
    "name": "ipython",
    "version": 3
   },
   "file_extension": ".py",
   "mimetype": "text/x-python",
   "name": "python",
   "nbconvert_exporter": "python",
   "pygments_lexer": "ipython3",
   "version": "3.6.7"
  }
 },
 "nbformat": 4,
 "nbformat_minor": 2
}
